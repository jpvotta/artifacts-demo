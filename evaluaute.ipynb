{
 "cells": [
  {
   "cell_type": "code",
   "execution_count": 4,
   "outputs": [
    {
     "data": {
      "text/plain": "Artifact: project=flytesnacks, domain=development, name=blessed_model, version=aw7kxk78nrcmxcqt88md/n0/0/o0\n  name=blessed_model\n  partitions=<flytekit.core.artifact.Partitions object at 0x10baf2d10>\n  literal_type=<FlyteLiteral blob { }>, literal=<FlyteLiteral scalar { blob { metadata { type { } } uri: \"s3://union-oc-production-demo/cu/aw7kxk78nrcmxcqt88md-n0-0/ca9e01348f633cf825a9e9bb5e4753d7/model.json\" } } metadata { key: \"_uc\" value: \"Cm9zMzovL3VuaW9uLW9jLXByb2R1Y3Rpb24tZGVtby9tZXRhZGF0YS9wcm9wZWxsZXIvZmx5dGVzbmFja3MtZGV2ZWxvcG1lbnQtYXc3a3hrNzhucmNteGNxdDg4bWQvbjAvZGF0YS8wL2NhcmRfbzAQAQ==\" } metadata { key: \"_ua\" value: \"flytesnacks/development/blessed_model@aw7kxk78nrcmxcqt88md/n0/0/o0\" } metadata { key: \"_uap\" value: \"GhMKEQoHYmxlc3NlZBIGCgR0cnVl\" }>)"
     },
     "execution_count": 4,
     "metadata": {},
     "output_type": "execute_result"
    }
   ],
   "source": [
    "from flytekit.configuration import Config, PlatformConfig, AuthType\n",
    "from unionai.remote import UnionRemote\n",
    "\n",
    "remote = UnionRemote(Config.auto().with_params(platform=PlatformConfig(\n",
    "    endpoint=\"demo.hosted.unionai.cloud\", \n",
    "    insecure=False)))\n",
    "    \n",
    "remote.get_artifact(\"flyte://av0.1/flytesnacks/development/blessed_model@aw7kxk78nrcmxcqt88md/n0/0/o0\")"
   ],
   "metadata": {
    "collapsed": false,
    "ExecuteTime": {
     "end_time": "2024-04-09T04:14:50.785781Z",
     "start_time": "2024-04-09T04:14:50.221837Z"
    }
   },
   "id": "888d583c81e49910"
  },
  {
   "cell_type": "code",
   "execution_count": null,
   "outputs": [],
   "source": [],
   "metadata": {
    "collapsed": false
   },
   "id": "1d6f0771e0b418"
  }
 ],
 "metadata": {
  "kernelspec": {
   "display_name": "Python 3",
   "language": "python",
   "name": "python3"
  },
  "language_info": {
   "codemirror_mode": {
    "name": "ipython",
    "version": 2
   },
   "file_extension": ".py",
   "mimetype": "text/x-python",
   "name": "python",
   "nbconvert_exporter": "python",
   "pygments_lexer": "ipython2",
   "version": "2.7.6"
  }
 },
 "nbformat": 4,
 "nbformat_minor": 5
}
